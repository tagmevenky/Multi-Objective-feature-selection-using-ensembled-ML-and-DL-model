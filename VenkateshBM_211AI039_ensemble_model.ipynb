{
 "cells": [
  {
   "cell_type": "code",
   "execution_count": 1,
   "metadata": {},
   "outputs": [
    {
     "name": "stderr",
     "output_type": "stream",
     "text": [
      "C:\\Users\\venka\\AppData\\Local\\Packages\\PythonSoftwareFoundation.Python.3.10_qbz5n2kfra8p0\\LocalCache\\local-packages\\Python310\\site-packages\\scipy\\__init__.py:146: UserWarning: A NumPy version >=1.16.5 and <1.23.0 is required for this version of SciPy (detected version 1.26.1\n",
      "  warnings.warn(f\"A NumPy version >={np_minversion} and <{np_maxversion}\"\n"
     ]
    }
   ],
   "source": [
    "import pandas as pd\n",
    "from sklearn.model_selection import train_test_split\n",
    "from sklearn.ensemble import RandomForestClassifier\n",
    "from sklearn.metrics import accuracy_score, precision_score, recall_score, f1_score\n",
    "\n",
    "# Load the dataset\n",
    "data = pd.read_csv('trial.csv')\n",
    "# Map 'b' to 0 and 's' to 1 in the 'Label' column\n",
    "data['Label'] = data['Label'].map({'b': 0, 's': 1})\n",
    "\n",
    "# Define the feature matrix (X) and the target variable (y)\n",
    "X = data.drop('Label', axis=1)\n",
    "y = data['Label']\n",
    "\n",
    "# Split the data into a training set and a test set (8:2 ratio)\n",
    "X_train, X_test, y_train, y_test = train_test_split(X, y, test_size=0.2, random_state=42)\n",
    "\n",
    "\n"
   ]
  },
  {
   "cell_type": "code",
   "execution_count": 2,
   "metadata": {},
   "outputs": [
    {
     "name": "stdout",
     "output_type": "stream",
     "text": [
      "Accuracy: 0.55\n",
      "Precision: 0.25\n",
      "Recall: 0.14\n",
      "F1-score: 0.18\n"
     ]
    }
   ],
   "source": [
    "# Create a Random Forest classifier\n",
    "random_forest_classifier = RandomForestClassifier(n_estimators=100, random_state=42)\n",
    "\n",
    "# Fit the classifier on the training data\n",
    "random_forest_classifier.fit(X_train, y_train)\n",
    "\n",
    "# Make predictions on the test data\n",
    "y_pred = random_forest_classifier.predict(X_test)\n",
    "\n",
    "# Calculate classification metrics\n",
    "accuracy = accuracy_score(y_test, y_pred)\n",
    "precision = precision_score(y_test, y_pred)\n",
    "recall = recall_score(y_test, y_pred)\n",
    "f1 = f1_score(y_test, y_pred)\n",
    "\n",
    "# Print the metrics\n",
    "print(f\"Accuracy: {accuracy:.2f}\")\n",
    "print(f\"Precision: {precision:.2f}\")\n",
    "print(f\"Recall: {recall:.2f}\")\n",
    "print(f\"F1-score: {f1:.2f}\")\n"
   ]
  },
  {
   "cell_type": "code",
   "execution_count": 3,
   "metadata": {},
   "outputs": [
    {
     "data": {
      "text/plain": [
       "['random_forest_model.pkl']"
      ]
     },
     "execution_count": 3,
     "metadata": {},
     "output_type": "execute_result"
    }
   ],
   "source": [
    "import joblib\n",
    "\n",
    "# Save the Random Forest model to a file\n",
    "model_filename = 'random_forest_model.pkl'\n",
    "joblib.dump(random_forest_classifier, model_filename)\n",
    "\n",
    "# Now the model is saved to 'random_forest_model.pkl' in your current directory\n"
   ]
  },
  {
   "cell_type": "code",
   "execution_count": 4,
   "metadata": {},
   "outputs": [],
   "source": [
    "# Load the Random Forest model from the saved file\n",
    "loaded_model = joblib.load('random_forest_model.pkl')\n",
    "\n",
    "# You can now use 'loaded_model' for predictions or further analysis\n"
   ]
  },
  {
   "cell_type": "code",
   "execution_count": 5,
   "metadata": {},
   "outputs": [
    {
     "name": "stdout",
     "output_type": "stream",
     "text": [
      "Sample Predictions: [0]\n"
     ]
    }
   ],
   "source": [
    "# Load the Random Forest model\n",
    "import joblib\n",
    "\n",
    "model_filename = 'random_forest_model.pkl'\n",
    "loaded_model = joblib.load(model_filename)\n",
    "\n",
    "# Prepare your sample data (ensure it has the same feature columns)\n",
    "sample_data = pd.DataFrame({\n",
    "    'DER_mass_transverse_met_lep': [5.1075805],\n",
    "    'DER_pt_h': [3.880222693],\n",
    "    'DER_pt_tot': [1.870878674],\n",
    "    'DER_mass_MMC': [-999],\n",
    "    'DER_deltar_tau_lep': [0.242946179],\n",
    "    'PRI_met': [4.812615157],\n",
    "    'PRI_jet_all_pt': [3.837299459],\n",
    "    'PRI_jet_leading_phi': [-0.604],\n",
    "    'PRI_jet_leading_eta': [1.227],\n",
    "    'PRI_met_sumet': [5.279567685],\n",
    "    'PRI_lep_phi': [-999],\n",
    "    'DER_pt_ratio_lep_tau': [0.547543207],\n",
    "    'PRI_met_phi': [0.699129252],\n",
    "    'PRI_tau_eta': [-0.343899752],\n",
    "    'PRI_lep_eta': [-999],\n",
    "    'PRI_tau_phi': [-999],\n",
    "    'DER_met_phi_centrality': [-999],\n",
    "    'DER_mass_vis': [4.076129674],\n",
    "    'PRI_jet_num': [1],\n",
    "    'PRI_jet_leading_pt': [46.4],\n",
    "    # Add more feature columns as needed\n",
    "})\n",
    "\n",
    "# Make predictions on the sample data\n",
    "ml_predictions = loaded_model.predict(sample_data)\n",
    "\n",
    "# Print the model's predictions\n",
    "print(\"Sample Predictions:\", ml_predictions)\n"
   ]
  },
  {
   "cell_type": "code",
   "execution_count": 6,
   "metadata": {},
   "outputs": [],
   "source": [
    "# import pandas as pd\n",
    "# from sklearn.model_selection import train_test_split\n",
    "# from sklearn.neural_network import MLPClassifier\n",
    "# from sklearn.metrics import accuracy_score, precision_score, recall_score, f1_score\n",
    "\n",
    "# # Load the dataset\n",
    "# data = pd.read_csv('new1.csv')\n",
    "\n",
    "# # Define the feature matrix (X) and the target variable (y)\n",
    "# X = data.drop('Label', axis=1)\n",
    "# y = data['Label']\n",
    "\n",
    "# # Split the data into a training set and a test set (8:2 ratio)\n",
    "# X_train, X_test, y_train, y_test = train_test_split(X, y, test_size=0.2, random_state=42)\n",
    "\n",
    "# # Create an MLPClassifier\n",
    "# mlp_classifier = MLPClassifier(hidden_layer_sizes=(100, 50), max_iter=500, random_state=42)\n",
    "\n",
    "# # Fit the classifier on the training data\n",
    "# mlp_classifier.fit(X_train, y_train)\n",
    "\n",
    "# # Make predictions on the test data\n",
    "# y_pred = mlp_classifier.predict(X_test)\n",
    "\n",
    "# # Calculate classification metrics\n",
    "# accuracy = accuracy_score(y_test, y_pred)\n",
    "# precision = precision_score(y_test, y_pred)\n",
    "# recall = recall_score(y_test, y_pred)\n",
    "# f1 = f1_score(y_test, y_pred)\n",
    "\n",
    "# # Print the metrics\n",
    "# print(f\"Accuracy: {accuracy:.2f}\")\n",
    "# print(f\"Precision: {precision:.2f}\")\n",
    "# print(f\"Recall: {recall:.2f}\")\n",
    "# print(f\"F1-score: {f1:.2f}\")\n",
    "import tensorflow as tf\n",
    "from tensorflow import  keras\n",
    "\n",
    "from keras.models import Sequential\n",
    "from keras.layers import Dense, Dropout, Activation\n",
    "from tensorflow.keras.optimizers import Adam\n",
    "from tensorflow.keras.metrics import categorical_crossentropy"
   ]
  },
  {
   "cell_type": "code",
   "execution_count": 7,
   "metadata": {},
   "outputs": [],
   "source": [
    "def base_model():\n",
    "    model = Sequential()\n",
    "    model.add(Dense(32, input_dim=20, activation='relu'))\n",
    "    model.add(Dropout(0.2))\n",
    "    model.add(Dense(16, activation='relu'))\n",
    "    model.add(Dense(2, activation='softmax'))\n",
    "    model.compile(loss='SparseCategoricalCrossentropy',\n",
    "                  optimizer='adam',\n",
    "                  metrics=['accuracy'])\n",
    "    return model"
   ]
  },
  {
   "cell_type": "code",
   "execution_count": 8,
   "metadata": {},
   "outputs": [],
   "source": [
    "import pandas as pd\n",
    "import numpy as np"
   ]
  },
  {
   "cell_type": "code",
   "execution_count": 9,
   "metadata": {},
   "outputs": [],
   "source": [
    "X_train, X_test, y_train, y_test = train_test_split(X, y, test_size=0.2, random_state=42)"
   ]
  },
  {
   "cell_type": "code",
   "execution_count": 10,
   "metadata": {},
   "outputs": [
    {
     "name": "stdout",
     "output_type": "stream",
     "text": [
      "Epoch 1/20\n",
      "3/3 - 2s - loss: 58.4610 - accuracy: 0.6835 - val_loss: 96.5301 - val_accuracy: 0.6000 - 2s/epoch - 833ms/step\n",
      "Epoch 2/20\n",
      "3/3 - 0s - loss: 73.0462 - accuracy: 0.6203 - val_loss: 85.5440 - val_accuracy: 0.6000 - 67ms/epoch - 22ms/step\n",
      "Epoch 3/20\n",
      "3/3 - 0s - loss: 60.4572 - accuracy: 0.6076 - val_loss: 78.6950 - val_accuracy: 0.5500 - 86ms/epoch - 29ms/step\n",
      "Epoch 4/20\n",
      "3/3 - 0s - loss: 54.3163 - accuracy: 0.6076 - val_loss: 74.0191 - val_accuracy: 0.5500 - 58ms/epoch - 19ms/step\n",
      "Epoch 5/20\n",
      "3/3 - 0s - loss: 60.0911 - accuracy: 0.6076 - val_loss: 71.0696 - val_accuracy: 0.5500 - 69ms/epoch - 23ms/step\n",
      "Epoch 6/20\n",
      "3/3 - 0s - loss: 46.6877 - accuracy: 0.6835 - val_loss: 69.1842 - val_accuracy: 0.5500 - 70ms/epoch - 23ms/step\n",
      "Epoch 7/20\n",
      "3/3 - 0s - loss: 58.7962 - accuracy: 0.6203 - val_loss: 69.8426 - val_accuracy: 0.6000 - 93ms/epoch - 31ms/step\n",
      "Epoch 8/20\n",
      "3/3 - 0s - loss: 50.1743 - accuracy: 0.6329 - val_loss: 71.4346 - val_accuracy: 0.6000 - 105ms/epoch - 35ms/step\n",
      "Epoch 9/20\n",
      "3/3 - 0s - loss: 42.5242 - accuracy: 0.6709 - val_loss: 71.0991 - val_accuracy: 0.6000 - 91ms/epoch - 30ms/step\n",
      "Epoch 10/20\n",
      "3/3 - 0s - loss: 43.4936 - accuracy: 0.5949 - val_loss: 70.8648 - val_accuracy: 0.6000 - 85ms/epoch - 28ms/step\n",
      "Epoch 11/20\n",
      "3/3 - 0s - loss: 50.8056 - accuracy: 0.6203 - val_loss: 71.2151 - val_accuracy: 0.6000 - 91ms/epoch - 30ms/step\n",
      "Epoch 12/20\n",
      "3/3 - 0s - loss: 33.1243 - accuracy: 0.7468 - val_loss: 70.7898 - val_accuracy: 0.6000 - 84ms/epoch - 28ms/step\n",
      "Epoch 13/20\n",
      "3/3 - 0s - loss: 42.4260 - accuracy: 0.6456 - val_loss: 68.4125 - val_accuracy: 0.6000 - 100ms/epoch - 33ms/step\n",
      "Epoch 14/20\n",
      "3/3 - 0s - loss: 35.9212 - accuracy: 0.7215 - val_loss: 65.1375 - val_accuracy: 0.5500 - 84ms/epoch - 28ms/step\n",
      "Epoch 15/20\n",
      "3/3 - 0s - loss: 36.3133 - accuracy: 0.6709 - val_loss: 61.3632 - val_accuracy: 0.5000 - 85ms/epoch - 28ms/step\n",
      "Epoch 16/20\n",
      "3/3 - 0s - loss: 37.5195 - accuracy: 0.6582 - val_loss: 59.6383 - val_accuracy: 0.3500 - 82ms/epoch - 27ms/step\n",
      "Epoch 17/20\n",
      "3/3 - 0s - loss: 35.2763 - accuracy: 0.5570 - val_loss: 58.7758 - val_accuracy: 0.3500 - 89ms/epoch - 30ms/step\n",
      "Epoch 18/20\n",
      "3/3 - 0s - loss: 29.7363 - accuracy: 0.6456 - val_loss: 57.7133 - val_accuracy: 0.3500 - 96ms/epoch - 32ms/step\n",
      "Epoch 19/20\n",
      "3/3 - 0s - loss: 31.7909 - accuracy: 0.6582 - val_loss: 57.4728 - val_accuracy: 0.5000 - 97ms/epoch - 32ms/step\n",
      "Epoch 20/20\n",
      "3/3 - 0s - loss: 35.6438 - accuracy: 0.6456 - val_loss: 60.0455 - val_accuracy: 0.5500 - 96ms/epoch - 32ms/step\n"
     ]
    }
   ],
   "source": [
    "model = base_model()\n",
    "history = model.fit(X_train, y_train,\n",
    "                    validation_data=(X_test, y_test),\n",
    "                    epochs=20,verbose=2,shuffle=True)"
   ]
  },
  {
   "cell_type": "code",
   "execution_count": 11,
   "metadata": {},
   "outputs": [],
   "source": [
    "prediction = model.predict(x=X_test,batch_size=10,verbose = 0)"
   ]
  },
  {
   "cell_type": "code",
   "execution_count": 12,
   "metadata": {},
   "outputs": [],
   "source": [
    "from sklearn.metrics import classification_report,confusion_matrix"
   ]
  },
  {
   "cell_type": "code",
   "execution_count": 13,
   "metadata": {},
   "outputs": [
    {
     "name": "stdout",
     "output_type": "stream",
     "text": [
      "              precision    recall  f1-score   support\n",
      "\n",
      "           0       0.62      0.77      0.69        13\n",
      "           1       0.25      0.14      0.18         7\n",
      "\n",
      "    accuracy                           0.55        20\n",
      "   macro avg       0.44      0.46      0.44        20\n",
      "weighted avg       0.49      0.55      0.51        20\n",
      "\n"
     ]
    },
    {
     "data": {
      "text/plain": [
       "array([[10,  3],\n",
       "       [ 6,  1]], dtype=int64)"
      ]
     },
     "execution_count": 13,
     "metadata": {},
     "output_type": "execute_result"
    }
   ],
   "source": [
    "y_pred = np.argmax(prediction,axis = -1)\n",
    "print(classification_report(y_test, y_pred))\n",
    "confusion_matrix(y_test, y_pred)"
   ]
  },
  {
   "cell_type": "code",
   "execution_count": 14,
   "metadata": {},
   "outputs": [
    {
     "name": "stderr",
     "output_type": "stream",
     "text": [
      "C:\\Users\\venka\\AppData\\Local\\Packages\\PythonSoftwareFoundation.Python.3.10_qbz5n2kfra8p0\\LocalCache\\local-packages\\Python310\\site-packages\\keras\\src\\engine\\training.py:3079: UserWarning: You are saving your model as an HDF5 file via `model.save()`. This file format is considered legacy. We recommend using instead the native Keras format, e.g. `model.save('my_model.keras')`.\n",
      "  saving_api.save_model(\n"
     ]
    }
   ],
   "source": [
    "# Save the model using Keras's built-in save function\n",
    "model.save('C:\\\\Users\\\\venka\\\\Downloads\\\\final_ml\\\\model.h5')\n",
    "\n",
    "# Now you can load the model and make predictions\n",
    "loaded_model2 = keras.models.load_model('C:\\\\Users\\\\venka\\\\Downloads\\\\final_ml\\\\model.h5')\n"
   ]
  },
  {
   "cell_type": "code",
   "execution_count": 15,
   "metadata": {},
   "outputs": [
    {
     "name": "stdout",
     "output_type": "stream",
     "text": [
      "1/1 [==============================] - 0s 182ms/step\n",
      "Sample Predictions: [[1. 0.]]\n"
     ]
    }
   ],
   "source": [
    "# Prepare your sample data (ensure it has the same feature columns)\n",
    "sample_data = pd.DataFrame({\n",
    "    'DER_mass_transverse_met_lep': [5.1075805],\n",
    "    'DER_pt_h': [3.880222693],\n",
    "    'DER_pt_tot': [1.870878674],\n",
    "    'DER_mass_MMC': [-999],\n",
    "    'DER_deltar_tau_lep': [0.242946179],\n",
    "    'PRI_met': [4.812615157],\n",
    "    'PRI_jet_all_pt': [3.837299459],\n",
    "    'PRI_jet_leading_phi': [-0.604],\n",
    "    'PRI_jet_leading_eta': [1.227],\n",
    "    'PRI_met_sumet': [5.279567685],\n",
    "    'PRI_lep_phi': [-999],\n",
    "    'DER_pt_ratio_lep_tau': [0.547543207],\n",
    "    'PRI_met_phi': [0.699129252],\n",
    "    'PRI_tau_eta': [-0.343899752],\n",
    "    'PRI_lep_eta': [-999],\n",
    "    'PRI_tau_phi': [-999],\n",
    "    'DER_met_phi_centrality': [-999],\n",
    "    'DER_mass_vis': [4.076129674],\n",
    "    'PRI_jet_num': [1],\n",
    "    'PRI_jet_leading_pt': [46.4],\n",
    "    # Add more feature columns as needed\n",
    "})\n",
    "\n",
    "# Make predictions on the sample data\n",
    "dl_predictions = loaded_model2.predict(sample_data)\n",
    "\n",
    "# Print the model's predictions\n",
    "print(\"Sample Predictions:\", dl_predictions)\n"
   ]
  },
  {
   "cell_type": "code",
   "execution_count": 16,
   "metadata": {},
   "outputs": [
    {
     "name": "stdout",
     "output_type": "stream",
     "text": [
      "Sample Predicted Classes: [0]\n"
     ]
    }
   ],
   "source": [
    "# Find the index of the maximum probability for each prediction\n",
    "predicted_classes = np.argmax(dl_predictions, axis=-1)\n",
    "\n",
    "# Print the predicted class labels\n",
    "print(\"Sample Predicted Classes:\", predicted_classes)\n"
   ]
  },
  {
   "cell_type": "code",
   "execution_count": 17,
   "metadata": {},
   "outputs": [
    {
     "name": "stdout",
     "output_type": "stream",
     "text": [
      "Ensemble Predictions (Probabilities): [[0.5 0. ]]\n",
      "Ensemble Predicted Classes: [[0. 0.]]\n"
     ]
    }
   ],
   "source": [
    "# Simple averaging of predicted probabilities\n",
    "ensemble_predictions = (dl_predictions + ml_predictions) / 2\n",
    "\n",
    "# Alternatively, use voting (assuming predictions are class labels)\n",
    "ensemble_classes = np.round((dl_predictions + ml_predictions) / 2)\n",
    "\n",
    "# Print the ensemble predictions\n",
    "print(\"Ensemble Predictions (Probabilities):\", ensemble_predictions)\n",
    "print(\"Ensemble Predicted Classes:\", ensemble_classes)\n",
    "\n",
    "\n",
    "\n",
    "\n"
   ]
  }
 ],
 "metadata": {
  "kernelspec": {
   "display_name": "Python 3",
   "language": "python",
   "name": "python3"
  },
  "language_info": {
   "codemirror_mode": {
    "name": "ipython",
    "version": 3
   },
   "file_extension": ".py",
   "mimetype": "text/x-python",
   "name": "python",
   "nbconvert_exporter": "python",
   "pygments_lexer": "ipython3",
   "version": "3.10.11"
  }
 },
 "nbformat": 4,
 "nbformat_minor": 2
}
